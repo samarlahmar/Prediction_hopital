{
  "metadata": {
    "kernelspec": {
      "name": "python",
      "display_name": "Python (Pyodide)",
      "language": "python"
    },
    "language_info": {
      "codemirror_mode": {
        "name": "python",
        "version": 3
      },
      "file_extension": ".py",
      "mimetype": "text/x-python",
      "name": "python",
      "nbconvert_exporter": "python",
      "pygments_lexer": "ipython3",
      "version": "3.8"
    }
  },
  "nbformat_minor": 5,
  "nbformat": 4,
  "cells": [
    {
      "id": "17261bcd-9ea6-4238-a061-3d5271b1a6f0",
      "cell_type": "code",
      "source": "import pandas as pd\nimport numpy as np\nimport random\nfrom datetime import datetime, timedelta",
      "metadata": {
        "trusted": true
      },
      "outputs": [],
      "execution_count": 1
    },
    {
      "id": "aa073726-3eb8-4e70-8eda-7b658b889dc3",
      "cell_type": "code",
      "source": "def generer_admissions(date, service):\n    if service == 'Orthopédie':\n        base = random.randint(10, 15)\n        pic_ete = 20 * np.exp(-((date.timetuple().tm_yday - 180) ** 2) / (2 * 60 ** 2)) #Pic en été\n        pic_hiver = 15 * np.exp(-((date.timetuple().tm_yday - 350) ** 2) / (2 * 30 ** 2)) #Pic en hiver\n        aleatoire = random.randint(-5, 5)\n        return max(0, int(base + pic_ete + pic_hiver + aleatoire))\n    elif service == 'Pneumologie':\n        base = random.randint(10, 15)\n        pic_printemps = 20 * np.exp(-((date.timetuple().tm_yday - 120) ** 2) / (2 * 30 ** 2)) #Pic au printemps\n        pic_automne = 20 * np.exp(-((date.timetuple().tm_yday - 300) ** 2) / (2 * 30 ** 2)) #Pic en automne\n        pic_hiver = 15 * np.exp(-((date.timetuple().tm_yday - 15) ** 2) / (2 * 30 ** 2)) #Pic en hiver\n        aleatoire = random.randint(-5, 5)\n        return max(0, int(base + pic_printemps + pic_automne + pic_hiver + aleatoire))",
      "metadata": {
        "trusted": true
      },
      "outputs": [],
      "execution_count": 2
    },
    {
      "id": "36292499-ea59-448c-9c40-c9268b40bef9",
      "cell_type": "code",
      "source": "def generer_duree_sejour(service):\n    base = 3 if service == 'Orthopédie' else 4\n    aleatoire = random.uniform(-1, 1)\n    return round(max(1, base + aleatoire), 2)",
      "metadata": {
        "trusted": true
      },
      "outputs": [],
      "execution_count": 3
    },
    {
      "id": "fb00d18d-451f-4943-9d7b-7579e1ca1938",
      "cell_type": "code",
      "source": "def generer_lits_disponibles(date, service, admissions, duree_sejour):\n    base = 75 if service == 'Orthopédie' else 70\n    lits_occupes = admissions * duree_sejour\n    lits_disponibles = max(0, int(base - lits_occupes))\n    aleatoire = random.randint(-5, 5)  # Ajout d'une variation aléatoire\n    return max(0, lits_disponibles + aleatoire)",
      "metadata": {
        "trusted": true
      },
      "outputs": [],
      "execution_count": 4
    },
    {
      "id": "874089b9-6ae5-4ccc-b021-deeef17a6058",
      "cell_type": "code",
      "source": "def generer_personnel(service, type_personnel, date):\n    base = 12 if type_personnel == 'medecins' else 25\n    conges = 2 * np.sin(2 * np.pi * date.timetuple().tm_yday / 365)\n    aleatoire = random.randint(-2, 2)\n    return max(0, int(base - conges + aleatoire))",
      "metadata": {
        "trusted": true
      },
      "outputs": [],
      "execution_count": 5
    },
    {
      "id": "341672e5-ad81-4a96-978b-0a4043dc131f",
      "cell_type": "code",
      "source": "def generer_temperature_paris(date):\n    moyenne_mensuelle = [5, 7, 10, 15, 18, 22, 28, 26, 22, 16, 11, 6]\n    mois = date.month - 1\n    moyenne = moyenne_mensuelle[mois]\n    aleatoire = random.uniform(-3, 3)\n    return int(moyenne + aleatoire)",
      "metadata": {
        "trusted": true
      },
      "outputs": [],
      "execution_count": 6
    },
    {
      "id": "ac835eb0-8708-4fb0-ba52-ac524d083616",
      "cell_type": "code",
      "source": "def generer_asthme(date, service, admissions):\n    if service == 'Orthopédie':\n        return 0\n    pourcentage_asthme = random.uniform(0.15, 0.20)\n    return int(admissions * pourcentage_asthme)",
      "metadata": {
        "trusted": true
      },
      "outputs": [],
      "execution_count": 7
    },
    {
      "id": "a2e056b9-71f6-4ee7-b89f-5a3c5c5f3f33",
      "cell_type": "code",
      "source": "def generer_blessures(date, service):\n    if service == 'Pneumologie':\n        return 0\n    pic = 30 * np.exp(-((date.timetuple().tm_yday - 180) ** 2) / (2 * 60 ** 2)) #Pic en été\n    aleatoire = random.randint(0, 10)\n    return max(0, int(pic + aleatoire))",
      "metadata": {
        "trusted": true
      },
      "outputs": [],
      "execution_count": 8
    },
    {
      "id": "46d5b804-6e8a-48b2-985d-f65bc7b59e0b",
      "cell_type": "code",
      "source": "def generer_budget(service):\n    base = 45000 if service == 'Orthopédie' else 35000\n    aleatoire = random.randint(-4000, 4000)\n    return base + aleatoire",
      "metadata": {
        "trusted": true
      },
      "outputs": [],
      "execution_count": 9
    },
    {
      "id": "5f696a95-506f-41a3-9eb3-15ea3895c73f",
      "cell_type": "code",
      "source": "def generer_stock(base, variation):\n    aleatoire = random.randint(-variation, variation)\n    return max(0, base + aleatoire)",
      "metadata": {
        "trusted": true
      },
      "outputs": [],
      "execution_count": 10
    },
    {
      "id": "a893e931-33e7-45e9-8684-2d539b7a1a71",
      "cell_type": "code",
      "source": "def generer_consommation_medicaments(admissions, duree_sejour):\n    return int(admissions * duree_sejour * random.uniform(0.5, 1.5))\ndef generer_consommation_consommables(admissions, duree_sejour):\n    return int(admissions * duree_sejour * random.uniform(2, 5))",
      "metadata": {
        "trusted": true
      },
      "outputs": [],
      "execution_count": 11
    },
    {
      "id": "9d78c510-3e50-439f-af1d-3027cc1b341c",
      "cell_type": "code",
      "source": "def generer_commandes_medicaments(stock, seuil_alerte):\n    if stock < seuil_alerte:\n        return random.randint(200, 500)\n    else:\n        return 0\n\ndef generer_commandes_consommables(stock, seuil_alerte):\n    if stock < seuil_alerte:\n        return random.randint(1000, 2500)\n    else:\n        return 0",
      "metadata": {
        "trusted": true
      },
      "outputs": [],
      "execution_count": 12
    },
    {
      "id": "2c341a4e-25c3-4ba6-9cee-df0dcd6c5295",
      "cell_type": "code",
      "source": "def generer_donnees_hospitalieres(date_debut, date_fin, services):\n    dates = pd.date_range(date_debut, date_fin)\n    data = []\n    for date in dates:\n        stocks_medicaments = {service: 1000 for service in services}\n        stocks_consommables = {service: 4000 for service in services}\n        for service in services:\n            admissions = generer_admissions(date, service)\n            duree_sejour = generer_duree_sejour(service)\n            lits_disponibles = generer_lits_disponibles(date, service, admissions, duree_sejour)\n            medecins = generer_personnel(service, 'medecins', date)\n            infirmiers = generer_personnel(service, 'infirmiers', date)\n            temperature = generer_temperature_paris(date)\n            asthme = generer_asthme(date, service, admissions)\n            blessures = generer_blessures(date, service)\n            budget = generer_budget(service)\n            consommation_medicaments = generer_consommation_medicaments(admissions, duree_sejour)\n            consommation_consommables = generer_consommation_consommables(admissions, duree_sejour)\n            stocks_medicaments[service] = max(0, stocks_medicaments[service] - consommation_medicaments)\n            stocks_consommables[service] = max(0, stocks_consommables[service] - consommation_consommables)\n            commandes_medicaments = generer_commandes_medicaments(stocks_medicaments[service], 900)\n            commandes_consommables = generer_commandes_consommables(stocks_consommables[service], 3800)\n            capacite_max_medicaments = 1500 if service == 'Orthopédie' else 1300\n            capacite_max_consommables = 6000 if service == 'Orthopédie' else 5000\n            data.append([date, service, admissions, duree_sejour, lits_disponibles, medecins, infirmiers, temperature, asthme, blessures, budget, stocks_medicaments[service], stocks_consommables[service], commandes_medicaments, commandes_consommables, capacite_max_medicaments, capacite_max_consommables])\n    df = pd.DataFrame(data, columns=['Date', 'Service', 'Admissions', 'Durée séjour (jours)', 'Lits disponibles', 'Médecins', 'Infirmiers', 'Température (°C)', 'Asthme (cas)', 'Blessures (cas)', 'Budget (euros)', 'Stock Médicaments', 'Stock Consommables', 'Commandes Médicaments', 'Commandes Consommables', 'Capacité Max Médicaments', 'Capacité Max Consommables'])\n    return df",
      "metadata": {
        "trusted": true
      },
      "outputs": [],
      "execution_count": 13
    },
    {
      "id": "96c132b3-22c6-494b-9191-806db530cb1f",
      "cell_type": "code",
      "source": "date_debut = '2022-01-01'\ndate_fin = '2024-12-31'\nservices = ['Orthopédie', 'Pneumologie']\ndf = generer_donnees_hospitalieres(date_debut, date_fin, services)\nprint(df)",
      "metadata": {
        "trusted": true
      },
      "outputs": [
        {
          "name": "stdout",
          "output_type": "stream",
          "text": "           Date      Service  Admissions  Durée séjour (jours)  \\\n0    2022-01-01   Orthopédie          11                  3.57   \n1    2022-01-01  Pneumologie          30                  3.74   \n2    2022-01-02   Orthopédie          16                  3.08   \n3    2022-01-02  Pneumologie          26                  4.58   \n4    2022-01-03   Orthopédie          19                  3.14   \n...         ...          ...         ...                   ...   \n2187 2024-12-29  Pneumologie          15                  4.62   \n2188 2024-12-30   Orthopédie          20                  3.02   \n2189 2024-12-30  Pneumologie           9                  3.21   \n2190 2024-12-31   Orthopédie          21                  3.05   \n2191 2024-12-31  Pneumologie          17                  4.55   \n\n      Lits disponibles  Médecins  Infirmiers  Température (°C)  Asthme (cas)  \\\n0                   37        11          22                 2             0   \n1                    0        11          22                 7             5   \n2                   24        13          25                 6             0   \n3                    0        13          24                 2             4   \n4                   14        12          22                 4             0   \n...                ...       ...         ...               ...           ...   \n2187                 0        12          27                 6             2   \n2188                13        12          26                 5             0   \n2189                41        12          23                 3             1   \n2190                 8        13          24                 7             0   \n2191                 4        13          22                 7             3   \n\n      Blessures (cas)  Budget (euros)  Stock Médicaments  Stock Consommables  \\\n0                   6           48675                958                3896   \n1                   0           35331                917                3600   \n2                   0           42460                974                3835   \n3                   0           31889                878                3522   \n4                   0           41641                928                3823   \n...               ...             ...                ...                 ...   \n2187                0           34909                930                3668   \n2188                5           48771                944                3791   \n2189                0           36356                973                3861   \n2190                1           46172                957                3734   \n2191                0           32060                906                3751   \n\n      Commandes Médicaments  Commandes Consommables  Capacité Max Médicaments  \\\n0                         0                       0                      1500   \n1                         0                    2475                      1300   \n2                         0                       0                      1500   \n3                       466                    1268                      1300   \n4                         0                       0                      1500   \n...                     ...                     ...                       ...   \n2187                      0                    1003                      1300   \n2188                      0                    1270                      1500   \n2189                      0                       0                      1300   \n2190                      0                    1429                      1500   \n2191                      0                    1237                      1300   \n\n      Capacité Max Consommables  \n0                          6000  \n1                          5000  \n2                          6000  \n3                          5000  \n4                          6000  \n...                         ...  \n2187                       5000  \n2188                       6000  \n2189                       5000  \n2190                       6000  \n2191                       5000  \n\n[2192 rows x 17 columns]\n"
        }
      ],
      "execution_count": 14
    },
    {
      "id": "b6020c06-5399-4362-8452-dafdb8ba14be",
      "cell_type": "code",
      "source": "df.to_csv('dataSet_Hopital.csv', index=False)",
      "metadata": {
        "trusted": true
      },
      "outputs": [],
      "execution_count": 15
    },
    {
      "id": "83823f9a-1dab-4e0d-9918-be2d6c743361",
      "cell_type": "code",
      "source": "",
      "metadata": {
        "trusted": true
      },
      "outputs": [],
      "execution_count": null
    }
  ]
}